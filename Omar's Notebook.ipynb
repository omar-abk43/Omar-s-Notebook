{
  "metadata": {
    "language_info": {
      "codemirror_mode": {
        "name": "python",
        "version": 3
      },
      "file_extension": ".py",
      "mimetype": "text/x-python",
      "name": "python",
      "nbconvert_exporter": "python",
      "pygments_lexer": "ipython3",
      "version": "3.8"
    },
    "kernelspec": {
      "name": "python",
      "display_name": "Pyolite",
      "language": "python"
    }
  },
  "nbformat_minor": 4,
  "nbformat": 4,
  "cells": [
    {
      "cell_type": "markdown",
      "source": "# Omar's Notebook",
      "metadata": {}
    },
    {
      "cell_type": "markdown",
      "source": "## Introduction\n\nWelcome to my notebook! This is where i'll be completing this assignment",
      "metadata": {}
    },
    {
      "cell_type": "markdown",
      "source": "## Data Science Languages\n\nHere data science languages:\n\n1) Python\n2) R\n3) Julia",
      "metadata": {}
    },
    {
      "cell_type": "markdown",
      "source": "## Data Science Libraries\n\nHere data science libraries:\n\n1) NumPy\n2) Pandas\n3) Scikit\n\n\n\n\n\n\n",
      "metadata": {}
    },
    {
      "cell_type": "markdown",
      "source": "# Display data science tools in a table\n| DSTool | Description | \n| --- | --- | \n| JupyterNotebook| Dstool | \n|Tenserflow| Dstool |\n| Tableu| Dstool | \n\n\n",
      "metadata": {}
    },
    {
      "cell_type": "markdown",
      "source": "## Arithmetic Expressions Examples\n\n\n- Addition: `2 + 3 = 5`\n- Subtraction: `10 - 7 = 3`\n- Multiplication: `4 * 5 = 20`\n- Division: `12 / 3 = 4`",
      "metadata": {}
    },
    {
      "cell_type": "code",
      "source": "# Multiplication\nx = 4\ny = 5\nproduct = x * y\nprint(product)\n\n# Addition\na = 10\nb = 7\nsum = a + b\nprint(sum)",
      "metadata": {
        "trusted": true
      },
      "execution_count": 1,
      "outputs": [
        {
          "name": "stdout",
          "text": "20\n17\n",
          "output_type": "stream"
        }
      ]
    },
    {
      "cell_type": "code",
      "source": "\nminutes = 180\nhours = minutes / 60\nprint(hours)",
      "metadata": {
        "trusted": true
      },
      "execution_count": 6,
      "outputs": [
        {
          "name": "stdout",
          "text": "3.0\n",
          "output_type": "stream"
        }
      ]
    },
    {
      "cell_type": "markdown",
      "source": "## Objectives\n\nmy objectives\n\n- finish this assignment\n- finish this course\n- graduate",
      "metadata": {}
    },
    {
      "cell_type": "markdown",
      "source": "## Author's Name\n\nOmar",
      "metadata": {}
    },
    {
      "cell_type": "code",
      "source": "",
      "metadata": {},
      "execution_count": null,
      "outputs": []
    }
  ]
}